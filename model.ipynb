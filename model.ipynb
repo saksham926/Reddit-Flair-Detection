{
 "cells": [
  {
   "cell_type": "code",
   "execution_count": 1,
   "metadata": {},
   "outputs": [
    {
     "name": "stdout",
     "output_type": "stream",
     "text": [
      "Requirement already satisfied: xgboost in c:\\users\\saksh\\anaconda3\\lib\\site-packages (1.3.3)Note: you may need to restart the kernel to use updated packages.\n",
      "\n",
      "Requirement already satisfied: numpy in c:\\users\\saksh\\anaconda3\\lib\\site-packages (from xgboost) (1.18.5)\n",
      "Requirement already satisfied: scipy in c:\\users\\saksh\\anaconda3\\lib\\site-packages (from xgboost) (1.4.1)\n"
     ]
    }
   ],
   "source": [
    "pip install xgboost"
   ]
  },
  {
   "cell_type": "code",
   "execution_count": 2,
   "metadata": {},
   "outputs": [],
   "source": [
    "import pandas as pd\n",
    "import numpy as np\n",
    "import matplotlib.pyplot as plt\n",
    "from sklearn.model_selection import train_test_split\n",
    "from sklearn.feature_extraction.text import TfidfTransformer\n",
    "from sklearn.feature_extraction.text import CountVectorizer\n",
    "from sklearn.metrics import classification_report\n",
    "from sklearn.metrics import accuracy_score, confusion_matrix\n",
    "from sklearn.ensemble import RandomForestClassifier\n",
    "from sklearn.linear_model import SGDClassifier\n",
    "from sklearn.linear_model import LogisticRegression\n",
    "from xgboost import XGBClassifier\n",
    "import pickle\n",
    "from sklearn.pipeline import Pipeline"
   ]
  },
  {
   "cell_type": "markdown",
   "metadata": {},
   "source": [
    "## Loading the data"
   ]
  },
  {
   "cell_type": "code",
   "execution_count": 3,
   "metadata": {},
   "outputs": [],
   "source": [
    "data=pd.read_csv('data.csv')"
   ]
  },
  {
   "cell_type": "code",
   "execution_count": 4,
   "metadata": {},
   "outputs": [
    {
     "data": {
      "text/html": [
       "<div>\n",
       "<style scoped>\n",
       "    .dataframe tbody tr th:only-of-type {\n",
       "        vertical-align: middle;\n",
       "    }\n",
       "\n",
       "    .dataframe tbody tr th {\n",
       "        vertical-align: top;\n",
       "    }\n",
       "\n",
       "    .dataframe thead th {\n",
       "        text-align: right;\n",
       "    }\n",
       "</style>\n",
       "<table border=\"1\" class=\"dataframe\">\n",
       "  <thead>\n",
       "    <tr style=\"text-align: right;\">\n",
       "      <th></th>\n",
       "      <th>Unnamed: 0</th>\n",
       "      <th>flair</th>\n",
       "      <th>title</th>\n",
       "      <th>score</th>\n",
       "      <th>id</th>\n",
       "      <th>url</th>\n",
       "      <th>comms_num</th>\n",
       "      <th>body</th>\n",
       "      <th>author</th>\n",
       "      <th>comments</th>\n",
       "      <th>timestamp</th>\n",
       "      <th>combined_features</th>\n",
       "    </tr>\n",
       "  </thead>\n",
       "  <tbody>\n",
       "    <tr>\n",
       "      <th>0</th>\n",
       "      <td>0</td>\n",
       "      <td>Business/Finance</td>\n",
       "      <td>Interest PF taxable: Finance minister eye PF i...</td>\n",
       "      <td>51</td>\n",
       "      <td>laoy5g</td>\n",
       "      <td>https://timesofindia.indiatimes.com/business/i...</td>\n",
       "      <td>20</td>\n",
       "      <td>NaN</td>\n",
       "      <td>satyasys</td>\n",
       "      <td>PF return fully taxable, point investing PF. G...</td>\n",
       "      <td>2021-02-02 19:30:37</td>\n",
       "      <td>Interest PF taxable: Finance minister eye PF i...</td>\n",
       "    </tr>\n",
       "    <tr>\n",
       "      <th>1</th>\n",
       "      <td>1</td>\n",
       "      <td>Food</td>\n",
       "      <td>How survive 500rs(food) 2 weeks?</td>\n",
       "      <td>55</td>\n",
       "      <td>kr3ztg</td>\n",
       "      <td>https://www.reddit.com/r/india/comments/kr3ztg...</td>\n",
       "      <td>79</td>\n",
       "      <td>Hey guys. So time salary going late I'll recei...</td>\n",
       "      <td>Luc_90</td>\n",
       "      <td>1. 2 kg cheap rice, 50/kg so, (Don't buy boile...</td>\n",
       "      <td>2021-01-06 07:40:59</td>\n",
       "      <td>How survive 500rs(food) 2 weeks?1. 2 kg cheap ...</td>\n",
       "    </tr>\n",
       "    <tr>\n",
       "      <th>2</th>\n",
       "      <td>2</td>\n",
       "      <td>Scheduled</td>\n",
       "      <td>Right wing group labelling resource document \"...</td>\n",
       "      <td>143</td>\n",
       "      <td>lbwl1r</td>\n",
       "      <td>https://www.reddit.com/r/india/comments/lbwl1r...</td>\n",
       "      <td>17</td>\n",
       "      <td>Recently Greta Thunberg tweeted \"toolkit\" peop...</td>\n",
       "      <td>gobargorab</td>\n",
       "      <td>Anything father modi make go crazy upset. That...</td>\n",
       "      <td>2021-02-04 09:27:18</td>\n",
       "      <td>Right wing group labelling resource document \"...</td>\n",
       "    </tr>\n",
       "    <tr>\n",
       "      <th>3</th>\n",
       "      <td>3</td>\n",
       "      <td>Food</td>\n",
       "      <td>Ask: What amount pocket money give children?</td>\n",
       "      <td>5</td>\n",
       "      <td>m0auzn</td>\n",
       "      <td>https://www.reddit.com/r/india/comments/m0auzn...</td>\n",
       "      <td>39</td>\n",
       "      <td>Also, supposed buy pocket money actually spend...</td>\n",
       "      <td>what_is_inflation</td>\n",
       "      <td>You guy get pocket money? My parent never gave...</td>\n",
       "      <td>2021-03-08 21:25:43</td>\n",
       "      <td>Ask: What amount pocket money give children?Yo...</td>\n",
       "    </tr>\n",
       "    <tr>\n",
       "      <th>4</th>\n",
       "      <td>4</td>\n",
       "      <td>Photography</td>\n",
       "      <td>I’ve Recently generated interest photography, ...</td>\n",
       "      <td>0</td>\n",
       "      <td>aaakn4</td>\n",
       "      <td>https://i.redd.it/9tcehs8vz0721.jpg</td>\n",
       "      <td>14</td>\n",
       "      <td>NaN</td>\n",
       "      <td>thesarcasticpage</td>\n",
       "      <td>A photo like letter viewer story want convey. ...</td>\n",
       "      <td>2018-12-29 03:35:37</td>\n",
       "      <td>I’ve Recently generated interest photography, ...</td>\n",
       "    </tr>\n",
       "  </tbody>\n",
       "</table>\n",
       "</div>"
      ],
      "text/plain": [
       "   Unnamed: 0             flair  \\\n",
       "0           0  Business/Finance   \n",
       "1           1              Food   \n",
       "2           2         Scheduled   \n",
       "3           3              Food   \n",
       "4           4       Photography   \n",
       "\n",
       "                                               title  score      id  \\\n",
       "0  Interest PF taxable: Finance minister eye PF i...     51  laoy5g   \n",
       "1                   How survive 500rs(food) 2 weeks?     55  kr3ztg   \n",
       "2  Right wing group labelling resource document \"...    143  lbwl1r   \n",
       "3       Ask: What amount pocket money give children?      5  m0auzn   \n",
       "4  I’ve Recently generated interest photography, ...      0  aaakn4   \n",
       "\n",
       "                                                 url  comms_num  \\\n",
       "0  https://timesofindia.indiatimes.com/business/i...         20   \n",
       "1  https://www.reddit.com/r/india/comments/kr3ztg...         79   \n",
       "2  https://www.reddit.com/r/india/comments/lbwl1r...         17   \n",
       "3  https://www.reddit.com/r/india/comments/m0auzn...         39   \n",
       "4                https://i.redd.it/9tcehs8vz0721.jpg         14   \n",
       "\n",
       "                                                body             author  \\\n",
       "0                                                NaN           satyasys   \n",
       "1  Hey guys. So time salary going late I'll recei...             Luc_90   \n",
       "2  Recently Greta Thunberg tweeted \"toolkit\" peop...         gobargorab   \n",
       "3  Also, supposed buy pocket money actually spend...  what_is_inflation   \n",
       "4                                                NaN   thesarcasticpage   \n",
       "\n",
       "                                            comments            timestamp  \\\n",
       "0  PF return fully taxable, point investing PF. G...  2021-02-02 19:30:37   \n",
       "1  1. 2 kg cheap rice, 50/kg so, (Don't buy boile...  2021-01-06 07:40:59   \n",
       "2  Anything father modi make go crazy upset. That...  2021-02-04 09:27:18   \n",
       "3  You guy get pocket money? My parent never gave...  2021-03-08 21:25:43   \n",
       "4  A photo like letter viewer story want convey. ...  2018-12-29 03:35:37   \n",
       "\n",
       "                                   combined_features  \n",
       "0  Interest PF taxable: Finance minister eye PF i...  \n",
       "1  How survive 500rs(food) 2 weeks?1. 2 kg cheap ...  \n",
       "2  Right wing group labelling resource document \"...  \n",
       "3  Ask: What amount pocket money give children?Yo...  \n",
       "4  I’ve Recently generated interest photography, ...  "
      ]
     },
     "execution_count": 4,
     "metadata": {},
     "output_type": "execute_result"
    }
   ],
   "source": [
    "data.head()"
   ]
  },
  {
   "cell_type": "code",
   "execution_count": 5,
   "metadata": {},
   "outputs": [],
   "source": [
    "data.fillna(\"\",inplace = True)"
   ]
  },
  {
   "cell_type": "code",
   "execution_count": 6,
   "metadata": {},
   "outputs": [
    {
     "data": {
      "text/plain": [
       "(2280, 12)"
      ]
     },
     "execution_count": 6,
     "metadata": {},
     "output_type": "execute_result"
    }
   ],
   "source": [
    "data.shape"
   ]
  },
  {
   "cell_type": "code",
   "execution_count": 7,
   "metadata": {},
   "outputs": [
    {
     "data": {
      "text/plain": [
       "Index(['Unnamed: 0', 'flair', 'title', 'score', 'id', 'url', 'comms_num',\n",
       "       'body', 'author', 'comments', 'timestamp', 'combined_features'],\n",
       "      dtype='object')"
      ]
     },
     "execution_count": 7,
     "metadata": {},
     "output_type": "execute_result"
    }
   ],
   "source": [
    "data.columns"
   ]
  },
  {
   "cell_type": "code",
   "execution_count": 8,
   "metadata": {},
   "outputs": [],
   "source": [
    "data.drop(['Unnamed: 0','id'],axis=1,inplace=True)"
   ]
  },
  {
   "cell_type": "code",
   "execution_count": 9,
   "metadata": {},
   "outputs": [
    {
     "data": {
      "text/html": [
       "<div>\n",
       "<style scoped>\n",
       "    .dataframe tbody tr th:only-of-type {\n",
       "        vertical-align: middle;\n",
       "    }\n",
       "\n",
       "    .dataframe tbody tr th {\n",
       "        vertical-align: top;\n",
       "    }\n",
       "\n",
       "    .dataframe thead th {\n",
       "        text-align: right;\n",
       "    }\n",
       "</style>\n",
       "<table border=\"1\" class=\"dataframe\">\n",
       "  <thead>\n",
       "    <tr style=\"text-align: right;\">\n",
       "      <th></th>\n",
       "      <th>flair</th>\n",
       "      <th>title</th>\n",
       "      <th>score</th>\n",
       "      <th>url</th>\n",
       "      <th>comms_num</th>\n",
       "      <th>body</th>\n",
       "      <th>author</th>\n",
       "      <th>comments</th>\n",
       "      <th>timestamp</th>\n",
       "      <th>combined_features</th>\n",
       "    </tr>\n",
       "  </thead>\n",
       "  <tbody>\n",
       "    <tr>\n",
       "      <th>0</th>\n",
       "      <td>Business/Finance</td>\n",
       "      <td>Interest PF taxable: Finance minister eye PF i...</td>\n",
       "      <td>51</td>\n",
       "      <td>https://timesofindia.indiatimes.com/business/i...</td>\n",
       "      <td>20</td>\n",
       "      <td></td>\n",
       "      <td>satyasys</td>\n",
       "      <td>PF return fully taxable, point investing PF. G...</td>\n",
       "      <td>2021-02-02 19:30:37</td>\n",
       "      <td>Interest PF taxable: Finance minister eye PF i...</td>\n",
       "    </tr>\n",
       "    <tr>\n",
       "      <th>1</th>\n",
       "      <td>Food</td>\n",
       "      <td>How survive 500rs(food) 2 weeks?</td>\n",
       "      <td>55</td>\n",
       "      <td>https://www.reddit.com/r/india/comments/kr3ztg...</td>\n",
       "      <td>79</td>\n",
       "      <td>Hey guys. So time salary going late I'll recei...</td>\n",
       "      <td>Luc_90</td>\n",
       "      <td>1. 2 kg cheap rice, 50/kg so, (Don't buy boile...</td>\n",
       "      <td>2021-01-06 07:40:59</td>\n",
       "      <td>How survive 500rs(food) 2 weeks?1. 2 kg cheap ...</td>\n",
       "    </tr>\n",
       "    <tr>\n",
       "      <th>2</th>\n",
       "      <td>Scheduled</td>\n",
       "      <td>Right wing group labelling resource document \"...</td>\n",
       "      <td>143</td>\n",
       "      <td>https://www.reddit.com/r/india/comments/lbwl1r...</td>\n",
       "      <td>17</td>\n",
       "      <td>Recently Greta Thunberg tweeted \"toolkit\" peop...</td>\n",
       "      <td>gobargorab</td>\n",
       "      <td>Anything father modi make go crazy upset. That...</td>\n",
       "      <td>2021-02-04 09:27:18</td>\n",
       "      <td>Right wing group labelling resource document \"...</td>\n",
       "    </tr>\n",
       "    <tr>\n",
       "      <th>3</th>\n",
       "      <td>Food</td>\n",
       "      <td>Ask: What amount pocket money give children?</td>\n",
       "      <td>5</td>\n",
       "      <td>https://www.reddit.com/r/india/comments/m0auzn...</td>\n",
       "      <td>39</td>\n",
       "      <td>Also, supposed buy pocket money actually spend...</td>\n",
       "      <td>what_is_inflation</td>\n",
       "      <td>You guy get pocket money? My parent never gave...</td>\n",
       "      <td>2021-03-08 21:25:43</td>\n",
       "      <td>Ask: What amount pocket money give children?Yo...</td>\n",
       "    </tr>\n",
       "    <tr>\n",
       "      <th>4</th>\n",
       "      <td>Photography</td>\n",
       "      <td>I’ve Recently generated interest photography, ...</td>\n",
       "      <td>0</td>\n",
       "      <td>https://i.redd.it/9tcehs8vz0721.jpg</td>\n",
       "      <td>14</td>\n",
       "      <td></td>\n",
       "      <td>thesarcasticpage</td>\n",
       "      <td>A photo like letter viewer story want convey. ...</td>\n",
       "      <td>2018-12-29 03:35:37</td>\n",
       "      <td>I’ve Recently generated interest photography, ...</td>\n",
       "    </tr>\n",
       "  </tbody>\n",
       "</table>\n",
       "</div>"
      ],
      "text/plain": [
       "              flair                                              title  score  \\\n",
       "0  Business/Finance  Interest PF taxable: Finance minister eye PF i...     51   \n",
       "1              Food                   How survive 500rs(food) 2 weeks?     55   \n",
       "2         Scheduled  Right wing group labelling resource document \"...    143   \n",
       "3              Food       Ask: What amount pocket money give children?      5   \n",
       "4       Photography  I’ve Recently generated interest photography, ...      0   \n",
       "\n",
       "                                                 url  comms_num  \\\n",
       "0  https://timesofindia.indiatimes.com/business/i...         20   \n",
       "1  https://www.reddit.com/r/india/comments/kr3ztg...         79   \n",
       "2  https://www.reddit.com/r/india/comments/lbwl1r...         17   \n",
       "3  https://www.reddit.com/r/india/comments/m0auzn...         39   \n",
       "4                https://i.redd.it/9tcehs8vz0721.jpg         14   \n",
       "\n",
       "                                                body             author  \\\n",
       "0                                                              satyasys   \n",
       "1  Hey guys. So time salary going late I'll recei...             Luc_90   \n",
       "2  Recently Greta Thunberg tweeted \"toolkit\" peop...         gobargorab   \n",
       "3  Also, supposed buy pocket money actually spend...  what_is_inflation   \n",
       "4                                                      thesarcasticpage   \n",
       "\n",
       "                                            comments            timestamp  \\\n",
       "0  PF return fully taxable, point investing PF. G...  2021-02-02 19:30:37   \n",
       "1  1. 2 kg cheap rice, 50/kg so, (Don't buy boile...  2021-01-06 07:40:59   \n",
       "2  Anything father modi make go crazy upset. That...  2021-02-04 09:27:18   \n",
       "3  You guy get pocket money? My parent never gave...  2021-03-08 21:25:43   \n",
       "4  A photo like letter viewer story want convey. ...  2018-12-29 03:35:37   \n",
       "\n",
       "                                   combined_features  \n",
       "0  Interest PF taxable: Finance minister eye PF i...  \n",
       "1  How survive 500rs(food) 2 weeks?1. 2 kg cheap ...  \n",
       "2  Right wing group labelling resource document \"...  \n",
       "3  Ask: What amount pocket money give children?Yo...  \n",
       "4  I’ve Recently generated interest photography, ...  "
      ]
     },
     "execution_count": 9,
     "metadata": {},
     "output_type": "execute_result"
    }
   ],
   "source": [
    "data.head()"
   ]
  },
  {
   "cell_type": "code",
   "execution_count": 10,
   "metadata": {},
   "outputs": [
    {
     "data": {
      "text/plain": [
       "Politics              244\n",
       "Coronavirus           241\n",
       "Food                  240\n",
       "Scheduled             234\n",
       "Business/Finance      230\n",
       "AskIndia              226\n",
       "Science/Technology    220\n",
       "Photography           219\n",
       "Policy/Economy        214\n",
       "Non-Political         212\n",
       "Name: flair, dtype: int64"
      ]
     },
     "execution_count": 10,
     "metadata": {},
     "output_type": "execute_result"
    }
   ],
   "source": [
    "data['flair'].value_counts()"
   ]
  },
  {
   "cell_type": "code",
   "execution_count": 11,
   "metadata": {},
   "outputs": [],
   "source": [
    "flair = ['Politics','Coronavirus','Food','Scheduled','Business/Finance','AskIndia','Science/Technology'\n",
    "        'Photography','Policy/Economy','Non-Political']"
   ]
  },
  {
   "cell_type": "markdown",
   "metadata": {},
   "source": [
    "## Trying different models"
   ]
  },
  {
   "cell_type": "markdown",
   "metadata": {},
   "source": [
    "## SVM"
   ]
  },
  {
   "cell_type": "code",
   "execution_count": 12,
   "metadata": {},
   "outputs": [],
   "source": [
    "def linear_svm(X_train, X_test, y_train, y_test):\n",
    "    sgd = Pipeline([('vect', CountVectorizer()),\n",
    "                  ('tfidf', TfidfTransformer()),\n",
    "                  ('clf', SGDClassifier(loss='hinge',alpha=1e-4, random_state=16, max_iter=5, tol=None)),\n",
    "                 ])\n",
    "    sgd.fit(X_train, y_train)\n",
    "\n",
    "    y_pred = sgd.predict(X_test)\n",
    "\n",
    "    print('accuracy %s' % accuracy_score(y_pred, y_test))\n",
    "    print(classification_report(y_test, y_pred,labels=flair))"
   ]
  },
  {
   "cell_type": "markdown",
   "metadata": {},
   "source": [
    "## Random Forest"
   ]
  },
  {
   "cell_type": "code",
   "execution_count": 13,
   "metadata": {},
   "outputs": [],
   "source": [
    "def randomforest(X_train, X_test, y_train, y_test):\n",
    "    ranfor = Pipeline([('vect', CountVectorizer()),\n",
    "                  ('tfidf', TfidfTransformer()),\n",
    "                  ('clf', RandomForestClassifier(n_estimators = 1000, random_state = 42)),\n",
    "                 ])\n",
    "    ranfor.fit(X_train, y_train)\n",
    "\n",
    "    y_pred = ranfor.predict(X_test)\n",
    "\n",
    "    print('accuracy %s' % accuracy_score(y_pred, y_test))\n",
    "    print(classification_report(y_test, y_pred,labels=flair))"
   ]
  },
  {
   "cell_type": "markdown",
   "metadata": {},
   "source": [
    "## XG Boost"
   ]
  },
  {
   "cell_type": "code",
   "execution_count": 14,
   "metadata": {},
   "outputs": [],
   "source": [
    "def xgbclassifier(X_train, X_test, y_train, y_test):  \n",
    "    xgb_clf = Pipeline([('vect', CountVectorizer()),\n",
    "                  ('tfidf', TfidfTransformer()),\n",
    "                  ('clf', XGBClassifier(random_state=42, seed=2,n_estimators=1000,verbosity=1,objective='multi:softmax')),\n",
    "                 ])\n",
    "    xgb_clf.fit(X_train, y_train)\n",
    "\n",
    "    y_pred = xgb_clf.predict(X_test)\n",
    "\n",
    "    print('accuracy %s' % accuracy_score(y_pred, y_test))\n",
    "    print(classification_report(y_test, y_pred,labels=flair))"
   ]
  },
  {
   "cell_type": "markdown",
   "metadata": {},
   "source": [
    "## Logistic Regression"
   ]
  },
  {
   "cell_type": "code",
   "execution_count": 15,
   "metadata": {},
   "outputs": [],
   "source": [
    "def logisticreg(X_train, X_test, y_train, y_test):\n",
    "\n",
    "    from sklearn.linear_model import LogisticRegression\n",
    "\n",
    "    logreg = Pipeline([('vect', CountVectorizer()),\n",
    "                  ('tfidf', TfidfTransformer()),\n",
    "                  ('clf', LogisticRegression(n_jobs=1, C=1e5)),\n",
    "                 ])\n",
    "    logreg.fit(X_train, y_train)\n",
    "\n",
    "    y_pred = logreg.predict(X_test)\n",
    "\n",
    "    print('accuracy %s' % accuracy_score(y_pred, y_test))\n",
    "    print(classification_report(y_test, y_pred,labels=flair))"
   ]
  },
  {
   "cell_type": "markdown",
   "metadata": {},
   "source": [
    "## Evaluating the model"
   ]
  },
  {
   "cell_type": "code",
   "execution_count": 16,
   "metadata": {},
   "outputs": [],
   "source": [
    "def train_test(X,y):\n",
    " \n",
    "    X_train, X_test, y_train, y_test = train_test_split(X, y, test_size=0.2, random_state = 42)\n",
    "    print(\"Results of Linear Support Vector Machine\")\n",
    "    linear_svm(X_train, X_test, y_train, y_test)\n",
    "    print(\"Results of Logistic Regression\\n\")\n",
    "    logisticreg(X_train, X_test, y_train, y_test)\n",
    "    print(\"Results of Random Forest\\n\")\n",
    "    randomforest(X_train, X_test, y_train, y_test)\n",
    "    print(\"Results of XGB Classifier\\n\")\n",
    "    xgbclassifier(X_train, X_test, y_train, y_test)"
   ]
  },
  {
   "cell_type": "code",
   "execution_count": 17,
   "metadata": {},
   "outputs": [
    {
     "name": "stdout",
     "output_type": "stream",
     "text": [
      "Flair Detection using Title as Feature\n",
      "\n",
      "Results of Linear Support Vector Machine\n",
      "accuracy 0.6491228070175439\n",
      "                               precision    recall  f1-score   support\n",
      "\n",
      "                     Politics       0.57      0.66      0.61        47\n",
      "                  Coronavirus       0.85      0.85      0.85        59\n",
      "                         Food       0.67      0.57      0.61        46\n",
      "                    Scheduled       0.58      0.59      0.59        49\n",
      "             Business/Finance       0.40      0.45      0.43        42\n",
      "                     AskIndia       0.81      0.74      0.78        47\n",
      "Science/TechnologyPhotography       0.00      0.00      0.00         0\n",
      "               Policy/Economy       0.43      0.40      0.42        47\n",
      "                Non-Political       0.92      0.97      0.95        36\n",
      "\n",
      "                    micro avg       0.65      0.65      0.65       373\n",
      "                    macro avg       0.58      0.58      0.58       373\n",
      "                 weighted avg       0.66      0.65      0.65       373\n",
      "\n",
      "Results of Logistic Regression\n",
      "\n"
     ]
    },
    {
     "name": "stderr",
     "output_type": "stream",
     "text": [
      "C:\\Users\\saksh\\anaconda3\\lib\\site-packages\\sklearn\\metrics\\_classification.py:1221: UndefinedMetricWarning: Precision and F-score are ill-defined and being set to 0.0 in labels with no predicted samples. Use `zero_division` parameter to control this behavior.\n",
      "  _warn_prf(average, modifier, msg_start, len(result))\n",
      "C:\\Users\\saksh\\anaconda3\\lib\\site-packages\\sklearn\\metrics\\_classification.py:1221: UndefinedMetricWarning: Recall and F-score are ill-defined and being set to 0.0 in labels with no true samples. Use `zero_division` parameter to control this behavior.\n",
      "  _warn_prf(average, modifier, msg_start, len(result))\n",
      "C:\\Users\\saksh\\anaconda3\\lib\\site-packages\\sklearn\\linear_model\\_logistic.py:762: ConvergenceWarning: lbfgs failed to converge (status=1):\n",
      "STOP: TOTAL NO. of ITERATIONS REACHED LIMIT.\n",
      "\n",
      "Increase the number of iterations (max_iter) or scale the data as shown in:\n",
      "    https://scikit-learn.org/stable/modules/preprocessing.html\n",
      "Please also refer to the documentation for alternative solver options:\n",
      "    https://scikit-learn.org/stable/modules/linear_model.html#logistic-regression\n",
      "  n_iter_i = _check_optimize_result(\n",
      "C:\\Users\\saksh\\anaconda3\\lib\\site-packages\\sklearn\\metrics\\_classification.py:1221: UndefinedMetricWarning: Precision and F-score are ill-defined and being set to 0.0 in labels with no predicted samples. Use `zero_division` parameter to control this behavior.\n",
      "  _warn_prf(average, modifier, msg_start, len(result))\n",
      "C:\\Users\\saksh\\anaconda3\\lib\\site-packages\\sklearn\\metrics\\_classification.py:1221: UndefinedMetricWarning: Recall and F-score are ill-defined and being set to 0.0 in labels with no true samples. Use `zero_division` parameter to control this behavior.\n",
      "  _warn_prf(average, modifier, msg_start, len(result))\n"
     ]
    },
    {
     "name": "stdout",
     "output_type": "stream",
     "text": [
      "accuracy 0.6557017543859649\n",
      "                               precision    recall  f1-score   support\n",
      "\n",
      "                     Politics       0.68      0.64      0.66        47\n",
      "                  Coronavirus       0.78      0.86      0.82        59\n",
      "                         Food       0.71      0.70      0.70        46\n",
      "                    Scheduled       0.64      0.55      0.59        49\n",
      "             Business/Finance       0.40      0.43      0.41        42\n",
      "                     AskIndia       0.81      0.72      0.76        47\n",
      "Science/TechnologyPhotography       0.00      0.00      0.00         0\n",
      "               Policy/Economy       0.43      0.47      0.45        47\n",
      "                Non-Political       0.89      0.94      0.92        36\n",
      "\n",
      "                    micro avg       0.67      0.66      0.67       373\n",
      "                    macro avg       0.60      0.59      0.59       373\n",
      "                 weighted avg       0.67      0.66      0.67       373\n",
      "\n",
      "Results of Random Forest\n",
      "\n",
      "accuracy 0.6732456140350878\n",
      "                               precision    recall  f1-score   support\n",
      "\n",
      "                     Politics       0.75      0.70      0.73        47\n",
      "                  Coronavirus       0.81      0.86      0.84        59\n",
      "                         Food       0.76      0.63      0.69        46\n",
      "                    Scheduled       0.68      0.53      0.60        49\n",
      "             Business/Finance       0.31      0.62      0.42        42\n",
      "                     AskIndia       0.82      0.70      0.76        47\n",
      "Science/TechnologyPhotography       0.00      0.00      0.00         0\n",
      "               Policy/Economy       0.53      0.55      0.54        47\n",
      "                Non-Political       0.95      0.97      0.96        36\n",
      "\n",
      "                    micro avg       0.66      0.69      0.68       373\n",
      "                    macro avg       0.62      0.62      0.61       373\n",
      "                 weighted avg       0.70      0.69      0.69       373\n",
      "\n",
      "Results of XGB Classifier\n",
      "\n"
     ]
    },
    {
     "name": "stderr",
     "output_type": "stream",
     "text": [
      "C:\\Users\\saksh\\anaconda3\\lib\\site-packages\\sklearn\\metrics\\_classification.py:1221: UndefinedMetricWarning: Precision and F-score are ill-defined and being set to 0.0 in labels with no predicted samples. Use `zero_division` parameter to control this behavior.\n",
      "  _warn_prf(average, modifier, msg_start, len(result))\n",
      "C:\\Users\\saksh\\anaconda3\\lib\\site-packages\\sklearn\\metrics\\_classification.py:1221: UndefinedMetricWarning: Recall and F-score are ill-defined and being set to 0.0 in labels with no true samples. Use `zero_division` parameter to control this behavior.\n",
      "  _warn_prf(average, modifier, msg_start, len(result))\n",
      "C:\\Users\\saksh\\anaconda3\\lib\\site-packages\\xgboost\\sklearn.py:888: UserWarning: The use of label encoder in XGBClassifier is deprecated and will be removed in a future release. To remove this warning, do the following: 1) Pass option use_label_encoder=False when constructing XGBClassifier object; and 2) Encode your labels (y) as integers starting with 0, i.e. 0, 1, 2, ..., [num_class - 1].\n",
      "  warnings.warn(label_encoder_deprecation_msg, UserWarning)\n"
     ]
    },
    {
     "name": "stdout",
     "output_type": "stream",
     "text": [
      "[21:58:34] WARNING: C:/Users/Administrator/workspace/xgboost-win64_release_1.3.0/src/learner.cc:1061: Starting in XGBoost 1.3.0, the default evaluation metric used with the objective 'multi:softprob' was changed from 'merror' to 'mlogloss'. Explicitly set eval_metric if you'd like to restore the old behavior.\n",
      "accuracy 0.6491228070175439\n",
      "                               precision    recall  f1-score   support\n",
      "\n",
      "                     Politics       0.53      0.64      0.58        47\n",
      "                  Coronavirus       0.82      0.86      0.84        59\n",
      "                         Food       0.76      0.63      0.69        46\n",
      "                    Scheduled       0.64      0.51      0.57        49\n",
      "             Business/Finance       0.41      0.45      0.43        42\n",
      "                     AskIndia       0.83      0.74      0.79        47\n",
      "Science/TechnologyPhotography       0.00      0.00      0.00         0\n",
      "               Policy/Economy       0.42      0.45      0.43        47\n",
      "                Non-Political       0.97      0.92      0.94        36\n",
      "\n",
      "                    micro avg       0.66      0.65      0.66       373\n",
      "                    macro avg       0.60      0.58      0.59       373\n",
      "                 weighted avg       0.67      0.65      0.66       373\n",
      "\n",
      "Flair Detection using Body as Feature\n",
      "Results of Linear Support Vector Machine\n"
     ]
    },
    {
     "name": "stderr",
     "output_type": "stream",
     "text": [
      "C:\\Users\\saksh\\anaconda3\\lib\\site-packages\\sklearn\\metrics\\_classification.py:1221: UndefinedMetricWarning: Precision and F-score are ill-defined and being set to 0.0 in labels with no predicted samples. Use `zero_division` parameter to control this behavior.\n",
      "  _warn_prf(average, modifier, msg_start, len(result))\n",
      "C:\\Users\\saksh\\anaconda3\\lib\\site-packages\\sklearn\\metrics\\_classification.py:1221: UndefinedMetricWarning: Recall and F-score are ill-defined and being set to 0.0 in labels with no true samples. Use `zero_division` parameter to control this behavior.\n",
      "  _warn_prf(average, modifier, msg_start, len(result))\n"
     ]
    },
    {
     "name": "stdout",
     "output_type": "stream",
     "text": [
      "accuracy 0.3355263157894737\n",
      "                               precision    recall  f1-score   support\n",
      "\n",
      "                     Politics       0.38      0.06      0.11        47\n",
      "                  Coronavirus       0.40      0.10      0.16        59\n",
      "                         Food       0.60      0.20      0.30        46\n",
      "                    Scheduled       0.38      0.16      0.23        49\n",
      "             Business/Finance       0.59      0.57      0.58        42\n",
      "                     AskIndia       0.51      0.43      0.47        47\n",
      "Science/TechnologyPhotography       0.00      0.00      0.00         0\n",
      "               Policy/Economy       0.61      0.53      0.57        47\n",
      "                Non-Political       0.26      0.14      0.18        36\n",
      "\n",
      "                    micro avg       0.50      0.27      0.35       373\n",
      "                    macro avg       0.41      0.24      0.29       373\n",
      "                 weighted avg       0.47      0.27      0.32       373\n",
      "\n",
      "Results of Logistic Regression\n",
      "\n"
     ]
    },
    {
     "name": "stderr",
     "output_type": "stream",
     "text": [
      "C:\\Users\\saksh\\anaconda3\\lib\\site-packages\\sklearn\\metrics\\_classification.py:1221: UndefinedMetricWarning: Precision and F-score are ill-defined and being set to 0.0 in labels with no predicted samples. Use `zero_division` parameter to control this behavior.\n",
      "  _warn_prf(average, modifier, msg_start, len(result))\n",
      "C:\\Users\\saksh\\anaconda3\\lib\\site-packages\\sklearn\\metrics\\_classification.py:1221: UndefinedMetricWarning: Recall and F-score are ill-defined and being set to 0.0 in labels with no true samples. Use `zero_division` parameter to control this behavior.\n",
      "  _warn_prf(average, modifier, msg_start, len(result))\n",
      "C:\\Users\\saksh\\anaconda3\\lib\\site-packages\\sklearn\\linear_model\\_logistic.py:762: ConvergenceWarning: lbfgs failed to converge (status=1):\n",
      "STOP: TOTAL NO. of ITERATIONS REACHED LIMIT.\n",
      "\n",
      "Increase the number of iterations (max_iter) or scale the data as shown in:\n",
      "    https://scikit-learn.org/stable/modules/preprocessing.html\n",
      "Please also refer to the documentation for alternative solver options:\n",
      "    https://scikit-learn.org/stable/modules/linear_model.html#logistic-regression\n",
      "  n_iter_i = _check_optimize_result(\n",
      "C:\\Users\\saksh\\anaconda3\\lib\\site-packages\\sklearn\\metrics\\_classification.py:1221: UndefinedMetricWarning: Precision and F-score are ill-defined and being set to 0.0 in labels with no predicted samples. Use `zero_division` parameter to control this behavior.\n",
      "  _warn_prf(average, modifier, msg_start, len(result))\n"
     ]
    },
    {
     "name": "stdout",
     "output_type": "stream",
     "text": [
      "accuracy 0.36622807017543857\n",
      "                               precision    recall  f1-score   support\n",
      "\n",
      "                     Politics       0.17      0.77      0.28        47\n",
      "                  Coronavirus       0.38      0.10      0.16        59\n",
      "                         Food       0.50      0.15      0.23        46\n",
      "                    Scheduled       0.38      0.20      0.27        49\n",
      "             Business/Finance       0.60      0.57      0.59        42\n",
      "                     AskIndia       0.40      0.45      0.42        47\n",
      "Science/TechnologyPhotography       0.00      0.00      0.00         0\n",
      "               Policy/Economy       0.63      0.40      0.49        47\n",
      "                Non-Political       0.35      0.19      0.25        36\n",
      "\n",
      "                    micro avg       0.32      0.35      0.33       373\n",
      "                    macro avg       0.38      0.32      0.30       373\n",
      "                 weighted avg       0.42      0.35      0.33       373\n",
      "\n",
      "Results of Random Forest\n",
      "\n"
     ]
    },
    {
     "name": "stderr",
     "output_type": "stream",
     "text": [
      "C:\\Users\\saksh\\anaconda3\\lib\\site-packages\\sklearn\\metrics\\_classification.py:1221: UndefinedMetricWarning: Recall and F-score are ill-defined and being set to 0.0 in labels with no true samples. Use `zero_division` parameter to control this behavior.\n",
      "  _warn_prf(average, modifier, msg_start, len(result))\n"
     ]
    },
    {
     "name": "stdout",
     "output_type": "stream",
     "text": [
      "accuracy 0.41228070175438597\n",
      "                               precision    recall  f1-score   support\n",
      "\n",
      "                     Politics       0.17      0.77      0.28        47\n",
      "                  Coronavirus       0.83      0.08      0.15        59\n",
      "                         Food       0.60      0.13      0.21        46\n",
      "                    Scheduled       0.65      0.27      0.38        49\n",
      "             Business/Finance       0.65      0.67      0.66        42\n",
      "                     AskIndia       0.42      0.70      0.53        47\n",
      "Science/TechnologyPhotography       0.00      0.00      0.00         0\n",
      "               Policy/Economy       0.85      0.47      0.60        47\n",
      "                Non-Political       0.36      0.11      0.17        36\n",
      "\n",
      "                    micro avg       0.36      0.39      0.38       373\n",
      "                    macro avg       0.50      0.35      0.33       373\n",
      "                 weighted avg       0.58      0.39      0.37       373\n",
      "\n",
      "Results of XGB Classifier\n",
      "\n"
     ]
    },
    {
     "name": "stderr",
     "output_type": "stream",
     "text": [
      "C:\\Users\\saksh\\anaconda3\\lib\\site-packages\\sklearn\\metrics\\_classification.py:1221: UndefinedMetricWarning: Precision and F-score are ill-defined and being set to 0.0 in labels with no predicted samples. Use `zero_division` parameter to control this behavior.\n",
      "  _warn_prf(average, modifier, msg_start, len(result))\n",
      "C:\\Users\\saksh\\anaconda3\\lib\\site-packages\\sklearn\\metrics\\_classification.py:1221: UndefinedMetricWarning: Recall and F-score are ill-defined and being set to 0.0 in labels with no true samples. Use `zero_division` parameter to control this behavior.\n",
      "  _warn_prf(average, modifier, msg_start, len(result))\n",
      "C:\\Users\\saksh\\anaconda3\\lib\\site-packages\\xgboost\\sklearn.py:888: UserWarning: The use of label encoder in XGBClassifier is deprecated and will be removed in a future release. To remove this warning, do the following: 1) Pass option use_label_encoder=False when constructing XGBClassifier object; and 2) Encode your labels (y) as integers starting with 0, i.e. 0, 1, 2, ..., [num_class - 1].\n",
      "  warnings.warn(label_encoder_deprecation_msg, UserWarning)\n"
     ]
    },
    {
     "name": "stdout",
     "output_type": "stream",
     "text": [
      "[22:01:11] WARNING: C:/Users/Administrator/workspace/xgboost-win64_release_1.3.0/src/learner.cc:1061: Starting in XGBoost 1.3.0, the default evaluation metric used with the objective 'multi:softprob' was changed from 'merror' to 'mlogloss'. Explicitly set eval_metric if you'd like to restore the old behavior.\n",
      "accuracy 0.43640350877192985\n",
      "                               precision    recall  f1-score   support\n",
      "\n",
      "                     Politics       0.17      0.77      0.28        47\n",
      "                  Coronavirus       0.80      0.14      0.23        59\n",
      "                         Food       0.55      0.24      0.33        46\n",
      "                    Scheduled       0.59      0.33      0.42        49\n",
      "             Business/Finance       0.80      0.67      0.73        42\n",
      "                     AskIndia       0.48      0.53      0.51        47\n",
      "Science/TechnologyPhotography       0.00      0.00      0.00         0\n",
      "               Policy/Economy       0.90      0.55      0.68        47\n",
      "                Non-Political       0.24      0.14      0.18        36\n",
      "\n",
      "                    micro avg       0.38      0.42      0.40       373\n",
      "                    macro avg       0.50      0.37      0.37       373\n",
      "                 weighted avg       0.58      0.42      0.42       373\n",
      "\n",
      "Flair Detection using URL as Feature\n",
      "Results of Linear Support Vector Machine\n",
      "accuracy 0.32456140350877194\n",
      "                               precision    recall  f1-score   support\n",
      "\n",
      "                     Politics       0.41      0.34      0.37        47\n",
      "                  Coronavirus       0.88      0.63      0.73        59\n",
      "                         Food       0.52      0.35      0.42        46\n",
      "                    Scheduled       0.50      0.35      0.41        49\n",
      "             Business/Finance       0.15      0.88      0.25        42\n",
      "                     AskIndia       0.00      0.00      0.00        47\n",
      "Science/TechnologyPhotography       0.00      0.00      0.00         0\n",
      "               Policy/Economy       0.36      0.11      0.16        47\n",
      "                Non-Political       0.28      0.19      0.23        36\n",
      "\n",
      "                    micro avg       0.31      0.36      0.33       373\n",
      "                    macro avg       0.34      0.32      0.29       373\n",
      "                 weighted avg       0.41      0.36      0.34       373\n",
      "\n",
      "Results of Logistic Regression\n",
      "\n"
     ]
    },
    {
     "name": "stderr",
     "output_type": "stream",
     "text": [
      "C:\\Users\\saksh\\anaconda3\\lib\\site-packages\\sklearn\\metrics\\_classification.py:1221: UndefinedMetricWarning: Precision and F-score are ill-defined and being set to 0.0 in labels with no predicted samples. Use `zero_division` parameter to control this behavior.\n",
      "  _warn_prf(average, modifier, msg_start, len(result))\n",
      "C:\\Users\\saksh\\anaconda3\\lib\\site-packages\\sklearn\\metrics\\_classification.py:1221: UndefinedMetricWarning: Recall and F-score are ill-defined and being set to 0.0 in labels with no true samples. Use `zero_division` parameter to control this behavior.\n",
      "  _warn_prf(average, modifier, msg_start, len(result))\n",
      "C:\\Users\\saksh\\anaconda3\\lib\\site-packages\\sklearn\\metrics\\_classification.py:1221: UndefinedMetricWarning: Precision and F-score are ill-defined and being set to 0.0 in labels with no predicted samples. Use `zero_division` parameter to control this behavior.\n",
      "  _warn_prf(average, modifier, msg_start, len(result))\n",
      "C:\\Users\\saksh\\anaconda3\\lib\\site-packages\\sklearn\\metrics\\_classification.py:1221: UndefinedMetricWarning: Recall and F-score are ill-defined and being set to 0.0 in labels with no true samples. Use `zero_division` parameter to control this behavior.\n",
      "  _warn_prf(average, modifier, msg_start, len(result))\n",
      "C:\\Users\\saksh\\anaconda3\\lib\\site-packages\\sklearn\\linear_model\\_logistic.py:762: ConvergenceWarning: lbfgs failed to converge (status=1):\n",
      "STOP: TOTAL NO. of ITERATIONS REACHED LIMIT.\n",
      "\n",
      "Increase the number of iterations (max_iter) or scale the data as shown in:\n",
      "    https://scikit-learn.org/stable/modules/preprocessing.html\n",
      "Please also refer to the documentation for alternative solver options:\n",
      "    https://scikit-learn.org/stable/modules/linear_model.html#logistic-regression\n",
      "  n_iter_i = _check_optimize_result(\n",
      "C:\\Users\\saksh\\anaconda3\\lib\\site-packages\\sklearn\\metrics\\_classification.py:1221: UndefinedMetricWarning: Precision and F-score are ill-defined and being set to 0.0 in labels with no predicted samples. Use `zero_division` parameter to control this behavior.\n",
      "  _warn_prf(average, modifier, msg_start, len(result))\n",
      "C:\\Users\\saksh\\anaconda3\\lib\\site-packages\\sklearn\\metrics\\_classification.py:1221: UndefinedMetricWarning: Recall and F-score are ill-defined and being set to 0.0 in labels with no true samples. Use `zero_division` parameter to control this behavior.\n",
      "  _warn_prf(average, modifier, msg_start, len(result))\n"
     ]
    },
    {
     "name": "stdout",
     "output_type": "stream",
     "text": [
      "accuracy 0.35526315789473684\n",
      "                               precision    recall  f1-score   support\n",
      "\n",
      "                     Politics       0.55      0.34      0.42        47\n",
      "                  Coronavirus       0.67      0.59      0.63        59\n",
      "                         Food       0.48      0.33      0.39        46\n",
      "                    Scheduled       0.56      0.31      0.39        49\n",
      "             Business/Finance       0.42      0.19      0.26        42\n",
      "                     AskIndia       0.19      0.96      0.32        47\n",
      "Science/TechnologyPhotography       0.00      0.00      0.00         0\n",
      "               Policy/Economy       0.33      0.13      0.18        47\n",
      "                Non-Political       0.43      0.17      0.24        36\n",
      "\n",
      "                    micro avg       0.34      0.39      0.37       373\n",
      "                    macro avg       0.40      0.33      0.32       373\n",
      "                 weighted avg       0.46      0.39      0.37       373\n",
      "\n",
      "Results of Random Forest\n",
      "\n",
      "accuracy 0.3048245614035088\n",
      "                               precision    recall  f1-score   support\n",
      "\n",
      "                     Politics       0.40      0.36      0.38        47\n",
      "                  Coronavirus       0.67      0.63      0.65        59\n",
      "                         Food       0.50      0.28      0.36        46\n",
      "                    Scheduled       0.48      0.20      0.29        49\n",
      "             Business/Finance       0.15      0.86      0.25        42\n",
      "                     AskIndia       0.00      0.00      0.00        47\n",
      "Science/TechnologyPhotography       0.00      0.00      0.00         0\n",
      "               Policy/Economy       0.42      0.11      0.17        47\n",
      "                Non-Political       0.42      0.22      0.29        36\n",
      "\n",
      "                    micro avg       0.30      0.34      0.32       373\n",
      "                    macro avg       0.34      0.30      0.27       373\n",
      "                 weighted avg       0.39      0.34      0.31       373\n",
      "\n",
      "Results of XGB Classifier\n",
      "\n"
     ]
    },
    {
     "name": "stderr",
     "output_type": "stream",
     "text": [
      "C:\\Users\\saksh\\anaconda3\\lib\\site-packages\\sklearn\\metrics\\_classification.py:1221: UndefinedMetricWarning: Precision and F-score are ill-defined and being set to 0.0 in labels with no predicted samples. Use `zero_division` parameter to control this behavior.\n",
      "  _warn_prf(average, modifier, msg_start, len(result))\n",
      "C:\\Users\\saksh\\anaconda3\\lib\\site-packages\\sklearn\\metrics\\_classification.py:1221: UndefinedMetricWarning: Recall and F-score are ill-defined and being set to 0.0 in labels with no true samples. Use `zero_division` parameter to control this behavior.\n",
      "  _warn_prf(average, modifier, msg_start, len(result))\n",
      "C:\\Users\\saksh\\anaconda3\\lib\\site-packages\\xgboost\\sklearn.py:888: UserWarning: The use of label encoder in XGBClassifier is deprecated and will be removed in a future release. To remove this warning, do the following: 1) Pass option use_label_encoder=False when constructing XGBClassifier object; and 2) Encode your labels (y) as integers starting with 0, i.e. 0, 1, 2, ..., [num_class - 1].\n",
      "  warnings.warn(label_encoder_deprecation_msg, UserWarning)\n"
     ]
    },
    {
     "name": "stdout",
     "output_type": "stream",
     "text": [
      "[22:04:23] WARNING: C:/Users/Administrator/workspace/xgboost-win64_release_1.3.0/src/learner.cc:1061: Starting in XGBoost 1.3.0, the default evaluation metric used with the objective 'multi:softprob' was changed from 'merror' to 'mlogloss'. Explicitly set eval_metric if you'd like to restore the old behavior.\n",
      "accuracy 0.2719298245614035\n",
      "                               precision    recall  f1-score   support\n",
      "\n",
      "                     Politics       0.48      0.23      0.31        47\n",
      "                  Coronavirus       0.74      0.59      0.66        59\n",
      "                         Food       0.50      0.17      0.26        46\n",
      "                    Scheduled       0.27      0.14      0.19        49\n",
      "             Business/Finance       0.14      0.79      0.23        42\n",
      "                     AskIndia       0.03      0.02      0.03        47\n",
      "Science/TechnologyPhotography       0.00      0.00      0.00         0\n",
      "               Policy/Economy       0.36      0.09      0.14        47\n",
      "                Non-Political       0.46      0.17      0.24        36\n",
      "\n",
      "                    micro avg       0.26      0.28      0.27       373\n",
      "                    macro avg       0.33      0.24      0.23       373\n",
      "                 weighted avg       0.38      0.28      0.27       373\n",
      "\n",
      "Flair Detection using Comments as Feature\n",
      "Results of Linear Support Vector Machine\n"
     ]
    },
    {
     "name": "stderr",
     "output_type": "stream",
     "text": [
      "C:\\Users\\saksh\\anaconda3\\lib\\site-packages\\sklearn\\metrics\\_classification.py:1221: UndefinedMetricWarning: Precision and F-score are ill-defined and being set to 0.0 in labels with no predicted samples. Use `zero_division` parameter to control this behavior.\n",
      "  _warn_prf(average, modifier, msg_start, len(result))\n",
      "C:\\Users\\saksh\\anaconda3\\lib\\site-packages\\sklearn\\metrics\\_classification.py:1221: UndefinedMetricWarning: Recall and F-score are ill-defined and being set to 0.0 in labels with no true samples. Use `zero_division` parameter to control this behavior.\n",
      "  _warn_prf(average, modifier, msg_start, len(result))\n"
     ]
    },
    {
     "name": "stdout",
     "output_type": "stream",
     "text": [
      "accuracy 0.43640350877192985\n",
      "                               precision    recall  f1-score   support\n",
      "\n",
      "                     Politics       0.45      0.53      0.49        47\n",
      "                  Coronavirus       0.42      0.58      0.49        59\n",
      "                         Food       0.69      0.54      0.61        46\n",
      "                    Scheduled       0.38      0.41      0.39        49\n",
      "             Business/Finance       0.50      0.62      0.55        42\n",
      "                     AskIndia       0.24      0.17      0.20        47\n",
      "Science/TechnologyPhotography       0.00      0.00      0.00         0\n",
      "               Policy/Economy       0.44      0.30      0.35        47\n",
      "                Non-Political       0.17      0.14      0.15        36\n",
      "\n",
      "                    micro avg       0.42      0.42      0.42       373\n",
      "                    macro avg       0.37      0.37      0.36       373\n",
      "                 weighted avg       0.42      0.42      0.41       373\n",
      "\n",
      "Results of Logistic Regression\n",
      "\n"
     ]
    },
    {
     "name": "stderr",
     "output_type": "stream",
     "text": [
      "C:\\Users\\saksh\\anaconda3\\lib\\site-packages\\sklearn\\metrics\\_classification.py:1221: UndefinedMetricWarning: Precision and F-score are ill-defined and being set to 0.0 in labels with no predicted samples. Use `zero_division` parameter to control this behavior.\n",
      "  _warn_prf(average, modifier, msg_start, len(result))\n",
      "C:\\Users\\saksh\\anaconda3\\lib\\site-packages\\sklearn\\metrics\\_classification.py:1221: UndefinedMetricWarning: Recall and F-score are ill-defined and being set to 0.0 in labels with no true samples. Use `zero_division` parameter to control this behavior.\n",
      "  _warn_prf(average, modifier, msg_start, len(result))\n",
      "C:\\Users\\saksh\\anaconda3\\lib\\site-packages\\sklearn\\linear_model\\_logistic.py:762: ConvergenceWarning: lbfgs failed to converge (status=1):\n",
      "STOP: TOTAL NO. of ITERATIONS REACHED LIMIT.\n",
      "\n",
      "Increase the number of iterations (max_iter) or scale the data as shown in:\n",
      "    https://scikit-learn.org/stable/modules/preprocessing.html\n",
      "Please also refer to the documentation for alternative solver options:\n",
      "    https://scikit-learn.org/stable/modules/linear_model.html#logistic-regression\n",
      "  n_iter_i = _check_optimize_result(\n"
     ]
    },
    {
     "name": "stdout",
     "output_type": "stream",
     "text": [
      "accuracy 0.44298245614035087\n",
      "                               precision    recall  f1-score   support\n",
      "\n",
      "                     Politics       0.52      0.55      0.54        47\n",
      "                  Coronavirus       0.44      0.61      0.51        59\n",
      "                         Food       0.68      0.59      0.63        46\n",
      "                    Scheduled       0.43      0.41      0.42        49\n",
      "             Business/Finance       0.52      0.55      0.53        42\n",
      "                     AskIndia       0.24      0.26      0.24        47\n",
      "Science/TechnologyPhotography       0.00      0.00      0.00         0\n",
      "               Policy/Economy       0.40      0.30      0.34        47\n",
      "                Non-Political       0.20      0.17      0.18        36\n",
      "\n",
      "                    micro avg       0.43      0.44      0.44       373\n",
      "                    macro avg       0.38      0.38      0.38       373\n",
      "                 weighted avg       0.43      0.44      0.43       373\n",
      "\n",
      "Results of Random Forest\n",
      "\n"
     ]
    },
    {
     "name": "stderr",
     "output_type": "stream",
     "text": [
      "C:\\Users\\saksh\\anaconda3\\lib\\site-packages\\sklearn\\metrics\\_classification.py:1221: UndefinedMetricWarning: Precision and F-score are ill-defined and being set to 0.0 in labels with no predicted samples. Use `zero_division` parameter to control this behavior.\n",
      "  _warn_prf(average, modifier, msg_start, len(result))\n",
      "C:\\Users\\saksh\\anaconda3\\lib\\site-packages\\sklearn\\metrics\\_classification.py:1221: UndefinedMetricWarning: Recall and F-score are ill-defined and being set to 0.0 in labels with no true samples. Use `zero_division` parameter to control this behavior.\n",
      "  _warn_prf(average, modifier, msg_start, len(result))\n"
     ]
    },
    {
     "name": "stdout",
     "output_type": "stream",
     "text": [
      "accuracy 0.46710526315789475\n",
      "                               precision    recall  f1-score   support\n",
      "\n",
      "                     Politics       0.41      0.60      0.48        47\n",
      "                  Coronavirus       0.43      0.71      0.54        59\n",
      "                         Food       0.67      0.61      0.64        46\n",
      "                    Scheduled       0.48      0.27      0.34        49\n",
      "             Business/Finance       0.53      0.62      0.57        42\n",
      "                     AskIndia       0.33      0.32      0.33        47\n",
      "Science/TechnologyPhotography       0.00      0.00      0.00         0\n",
      "               Policy/Economy       0.48      0.21      0.29        47\n",
      "                Non-Political       0.33      0.33      0.33        36\n",
      "\n",
      "                    micro avg       0.45      0.47      0.46       373\n",
      "                    macro avg       0.41      0.41      0.39       373\n",
      "                 weighted avg       0.46      0.47      0.44       373\n",
      "\n",
      "Results of XGB Classifier\n",
      "\n"
     ]
    },
    {
     "name": "stderr",
     "output_type": "stream",
     "text": [
      "C:\\Users\\saksh\\anaconda3\\lib\\site-packages\\sklearn\\metrics\\_classification.py:1221: UndefinedMetricWarning: Precision and F-score are ill-defined and being set to 0.0 in labels with no predicted samples. Use `zero_division` parameter to control this behavior.\n",
      "  _warn_prf(average, modifier, msg_start, len(result))\n",
      "C:\\Users\\saksh\\anaconda3\\lib\\site-packages\\sklearn\\metrics\\_classification.py:1221: UndefinedMetricWarning: Recall and F-score are ill-defined and being set to 0.0 in labels with no true samples. Use `zero_division` parameter to control this behavior.\n",
      "  _warn_prf(average, modifier, msg_start, len(result))\n",
      "C:\\Users\\saksh\\anaconda3\\lib\\site-packages\\xgboost\\sklearn.py:888: UserWarning: The use of label encoder in XGBClassifier is deprecated and will be removed in a future release. To remove this warning, do the following: 1) Pass option use_label_encoder=False when constructing XGBClassifier object; and 2) Encode your labels (y) as integers starting with 0, i.e. 0, 1, 2, ..., [num_class - 1].\n",
      "  warnings.warn(label_encoder_deprecation_msg, UserWarning)\n"
     ]
    },
    {
     "name": "stdout",
     "output_type": "stream",
     "text": [
      "[22:08:28] WARNING: C:/Users/Administrator/workspace/xgboost-win64_release_1.3.0/src/learner.cc:1061: Starting in XGBoost 1.3.0, the default evaluation metric used with the objective 'multi:softprob' was changed from 'merror' to 'mlogloss'. Explicitly set eval_metric if you'd like to restore the old behavior.\n",
      "accuracy 0.42105263157894735\n",
      "                               precision    recall  f1-score   support\n",
      "\n",
      "                     Politics       0.44      0.47      0.45        47\n",
      "                  Coronavirus       0.43      0.68      0.52        59\n",
      "                         Food       0.59      0.50      0.54        46\n",
      "                    Scheduled       0.42      0.37      0.39        49\n",
      "             Business/Finance       0.55      0.55      0.55        42\n",
      "                     AskIndia       0.31      0.26      0.28        47\n",
      "Science/TechnologyPhotography       0.00      0.00      0.00         0\n",
      "               Policy/Economy       0.43      0.28      0.34        47\n",
      "                Non-Political       0.15      0.19      0.17        36\n",
      "\n",
      "                    micro avg       0.41      0.42      0.42       373\n",
      "                    macro avg       0.37      0.37      0.36       373\n",
      "                 weighted avg       0.42      0.42      0.41       373\n",
      "\n",
      "Flair Detection using Combined Features\n",
      "Results of Linear Support Vector Machine\n"
     ]
    },
    {
     "name": "stderr",
     "output_type": "stream",
     "text": [
      "C:\\Users\\saksh\\anaconda3\\lib\\site-packages\\sklearn\\metrics\\_classification.py:1221: UndefinedMetricWarning: Precision and F-score are ill-defined and being set to 0.0 in labels with no predicted samples. Use `zero_division` parameter to control this behavior.\n",
      "  _warn_prf(average, modifier, msg_start, len(result))\n",
      "C:\\Users\\saksh\\anaconda3\\lib\\site-packages\\sklearn\\metrics\\_classification.py:1221: UndefinedMetricWarning: Recall and F-score are ill-defined and being set to 0.0 in labels with no true samples. Use `zero_division` parameter to control this behavior.\n",
      "  _warn_prf(average, modifier, msg_start, len(result))\n"
     ]
    },
    {
     "name": "stdout",
     "output_type": "stream",
     "text": [
      "accuracy 0.7302631578947368\n",
      "                               precision    recall  f1-score   support\n",
      "\n",
      "                     Politics       0.67      0.64      0.65        47\n",
      "                  Coronavirus       0.82      0.90      0.85        59\n",
      "                         Food       0.77      0.72      0.74        46\n",
      "                    Scheduled       0.84      0.76      0.80        49\n",
      "             Business/Finance       0.71      0.76      0.74        42\n",
      "                     AskIndia       0.58      0.55      0.57        47\n",
      "Science/TechnologyPhotography       0.00      0.00      0.00         0\n",
      "               Policy/Economy       0.63      0.70      0.67        47\n",
      "                Non-Political       0.67      0.67      0.67        36\n",
      "\n",
      "                    micro avg       0.71      0.72      0.72       373\n",
      "                    macro avg       0.63      0.63      0.63       373\n",
      "                 weighted avg       0.72      0.72      0.72       373\n",
      "\n",
      "Results of Logistic Regression\n",
      "\n"
     ]
    },
    {
     "name": "stderr",
     "output_type": "stream",
     "text": [
      "C:\\Users\\saksh\\anaconda3\\lib\\site-packages\\sklearn\\metrics\\_classification.py:1221: UndefinedMetricWarning: Precision and F-score are ill-defined and being set to 0.0 in labels with no predicted samples. Use `zero_division` parameter to control this behavior.\n",
      "  _warn_prf(average, modifier, msg_start, len(result))\n",
      "C:\\Users\\saksh\\anaconda3\\lib\\site-packages\\sklearn\\metrics\\_classification.py:1221: UndefinedMetricWarning: Recall and F-score are ill-defined and being set to 0.0 in labels with no true samples. Use `zero_division` parameter to control this behavior.\n",
      "  _warn_prf(average, modifier, msg_start, len(result))\n",
      "C:\\Users\\saksh\\anaconda3\\lib\\site-packages\\sklearn\\linear_model\\_logistic.py:762: ConvergenceWarning: lbfgs failed to converge (status=1):\n",
      "STOP: TOTAL NO. of ITERATIONS REACHED LIMIT.\n",
      "\n",
      "Increase the number of iterations (max_iter) or scale the data as shown in:\n",
      "    https://scikit-learn.org/stable/modules/preprocessing.html\n",
      "Please also refer to the documentation for alternative solver options:\n",
      "    https://scikit-learn.org/stable/modules/linear_model.html#logistic-regression\n",
      "  n_iter_i = _check_optimize_result(\n"
     ]
    },
    {
     "name": "stdout",
     "output_type": "stream",
     "text": [
      "accuracy 0.7083333333333334\n",
      "                               precision    recall  f1-score   support\n",
      "\n",
      "                     Politics       0.69      0.66      0.67        47\n",
      "                  Coronavirus       0.83      0.88      0.85        59\n",
      "                         Food       0.72      0.72      0.72        46\n",
      "                    Scheduled       0.69      0.67      0.68        49\n",
      "             Business/Finance       0.69      0.81      0.75        42\n",
      "                     AskIndia       0.45      0.51      0.48        47\n",
      "Science/TechnologyPhotography       0.00      0.00      0.00         0\n",
      "               Policy/Economy       0.67      0.60      0.63        47\n",
      "                Non-Political       0.69      0.69      0.69        36\n",
      "\n",
      "                    micro avg       0.68      0.70      0.69       373\n",
      "                    macro avg       0.60      0.62      0.61       373\n",
      "                 weighted avg       0.68      0.70      0.69       373\n",
      "\n",
      "Results of Random Forest\n",
      "\n"
     ]
    },
    {
     "name": "stderr",
     "output_type": "stream",
     "text": [
      "C:\\Users\\saksh\\anaconda3\\lib\\site-packages\\sklearn\\metrics\\_classification.py:1221: UndefinedMetricWarning: Precision and F-score are ill-defined and being set to 0.0 in labels with no predicted samples. Use `zero_division` parameter to control this behavior.\n",
      "  _warn_prf(average, modifier, msg_start, len(result))\n",
      "C:\\Users\\saksh\\anaconda3\\lib\\site-packages\\sklearn\\metrics\\_classification.py:1221: UndefinedMetricWarning: Recall and F-score are ill-defined and being set to 0.0 in labels with no true samples. Use `zero_division` parameter to control this behavior.\n",
      "  _warn_prf(average, modifier, msg_start, len(result))\n"
     ]
    },
    {
     "name": "stdout",
     "output_type": "stream",
     "text": [
      "accuracy 0.8048245614035088\n",
      "                               precision    recall  f1-score   support\n",
      "\n",
      "                     Politics       0.65      0.74      0.69        47\n",
      "                  Coronavirus       0.88      0.95      0.91        59\n",
      "                         Food       0.90      0.78      0.84        46\n",
      "                    Scheduled       0.88      0.76      0.81        49\n",
      "             Business/Finance       0.64      0.86      0.73        42\n",
      "                     AskIndia       0.81      0.83      0.82        47\n",
      "Science/TechnologyPhotography       0.00      0.00      0.00         0\n",
      "               Policy/Economy       0.79      0.57      0.67        47\n",
      "                Non-Political       0.84      0.89      0.86        36\n",
      "\n",
      "                    micro avg       0.79      0.80      0.80       373\n",
      "                    macro avg       0.71      0.71      0.70       373\n",
      "                 weighted avg       0.80      0.80      0.80       373\n",
      "\n",
      "Results of XGB Classifier\n",
      "\n"
     ]
    },
    {
     "name": "stderr",
     "output_type": "stream",
     "text": [
      "C:\\Users\\saksh\\anaconda3\\lib\\site-packages\\sklearn\\metrics\\_classification.py:1221: UndefinedMetricWarning: Precision and F-score are ill-defined and being set to 0.0 in labels with no predicted samples. Use `zero_division` parameter to control this behavior.\n",
      "  _warn_prf(average, modifier, msg_start, len(result))\n",
      "C:\\Users\\saksh\\anaconda3\\lib\\site-packages\\sklearn\\metrics\\_classification.py:1221: UndefinedMetricWarning: Recall and F-score are ill-defined and being set to 0.0 in labels with no true samples. Use `zero_division` parameter to control this behavior.\n",
      "  _warn_prf(average, modifier, msg_start, len(result))\n",
      "C:\\Users\\saksh\\anaconda3\\lib\\site-packages\\xgboost\\sklearn.py:888: UserWarning: The use of label encoder in XGBClassifier is deprecated and will be removed in a future release. To remove this warning, do the following: 1) Pass option use_label_encoder=False when constructing XGBClassifier object; and 2) Encode your labels (y) as integers starting with 0, i.e. 0, 1, 2, ..., [num_class - 1].\n",
      "  warnings.warn(label_encoder_deprecation_msg, UserWarning)\n"
     ]
    },
    {
     "name": "stdout",
     "output_type": "stream",
     "text": [
      "[22:16:51] WARNING: C:/Users/Administrator/workspace/xgboost-win64_release_1.3.0/src/learner.cc:1061: Starting in XGBoost 1.3.0, the default evaluation metric used with the objective 'multi:softprob' was changed from 'merror' to 'mlogloss'. Explicitly set eval_metric if you'd like to restore the old behavior.\n",
      "accuracy 0.8486842105263158\n",
      "                               precision    recall  f1-score   support\n",
      "\n",
      "                     Politics       0.69      0.70      0.69        47\n",
      "                  Coronavirus       0.98      0.95      0.97        59\n",
      "                         Food       0.80      0.78      0.79        46\n",
      "                    Scheduled       0.91      0.84      0.87        49\n",
      "             Business/Finance       0.78      0.86      0.82        42\n",
      "                     AskIndia       0.93      0.89      0.91        47\n",
      "Science/TechnologyPhotography       0.00      0.00      0.00         0\n",
      "               Policy/Economy       0.77      0.79      0.78        47\n",
      "                Non-Political       0.89      0.94      0.92        36\n",
      "\n",
      "                    micro avg       0.85      0.84      0.85       373\n",
      "                    macro avg       0.75      0.75      0.75       373\n",
      "                 weighted avg       0.85      0.84      0.85       373\n",
      "\n"
     ]
    },
    {
     "name": "stderr",
     "output_type": "stream",
     "text": [
      "C:\\Users\\saksh\\anaconda3\\lib\\site-packages\\sklearn\\metrics\\_classification.py:1221: UndefinedMetricWarning: Precision and F-score are ill-defined and being set to 0.0 in labels with no predicted samples. Use `zero_division` parameter to control this behavior.\n",
      "  _warn_prf(average, modifier, msg_start, len(result))\n",
      "C:\\Users\\saksh\\anaconda3\\lib\\site-packages\\sklearn\\metrics\\_classification.py:1221: UndefinedMetricWarning: Recall and F-score are ill-defined and being set to 0.0 in labels with no true samples. Use `zero_division` parameter to control this behavior.\n",
      "  _warn_prf(average, modifier, msg_start, len(result))\n"
     ]
    }
   ],
   "source": [
    "cat = data['flair']\n",
    "\n",
    "V = data['combined_features']\n",
    "W = data['comments']\n",
    "X = data['title']\n",
    "Y = data['body']\n",
    "Z = data['url']\n",
    "\n",
    "print(\"Flair Detection using Title as Feature\\n\")\n",
    "train_test(X,cat)\n",
    "print(\"Flair Detection using Body as Feature\")\n",
    "train_test(Y,cat)\n",
    "print(\"Flair Detection using URL as Feature\")\n",
    "train_test(Z,cat)\n",
    "print(\"Flair Detection using Comments as Feature\")\n",
    "train_test(W,cat)\n",
    "print(\"Flair Detection using Combined Features\")\n",
    "train_test(V,cat)"
   ]
  },
  {
   "cell_type": "markdown",
   "metadata": {},
   "source": [
    "## Saving the model"
   ]
  },
  {
   "cell_type": "code",
   "execution_count": 18,
   "metadata": {},
   "outputs": [
    {
     "name": "stderr",
     "output_type": "stream",
     "text": [
      "C:\\Users\\saksh\\anaconda3\\lib\\site-packages\\xgboost\\sklearn.py:888: UserWarning: The use of label encoder in XGBClassifier is deprecated and will be removed in a future release. To remove this warning, do the following: 1) Pass option use_label_encoder=False when constructing XGBClassifier object; and 2) Encode your labels (y) as integers starting with 0, i.e. 0, 1, 2, ..., [num_class - 1].\n",
      "  warnings.warn(label_encoder_deprecation_msg, UserWarning)\n"
     ]
    },
    {
     "name": "stdout",
     "output_type": "stream",
     "text": [
      "[22:26:00] WARNING: C:/Users/Administrator/workspace/xgboost-win64_release_1.3.0/src/learner.cc:1061: Starting in XGBoost 1.3.0, the default evaluation metric used with the objective 'multi:softprob' was changed from 'merror' to 'mlogloss'. Explicitly set eval_metric if you'd like to restore the old behavior.\n"
     ]
    }
   ],
   "source": [
    "import xgboost as xgb\n",
    "X_train, X_test, y_train, y_test = train_test_split(V, cat, test_size=0.2, random_state = 42)\n",
    "model = Pipeline([('vect', CountVectorizer()),\n",
    "                   ('tfidf', TfidfTransformer()),\n",
    "                   ('clf', xgb.sklearn.XGBClassifier(random_state=42,n_estimators=1000,verbosity=1, seed=2,objective='multi:softmax')),\n",
    "                  ])\n",
    "XGB = model.fit(X_train, y_train)"
   ]
  },
  {
   "cell_type": "code",
   "execution_count": 21,
   "metadata": {},
   "outputs": [],
   "source": [
    "# Saving the best model as pickle file which would be used in website\n",
    "\n",
    "with open(\"pickle_xgboost_model.pkl\", 'wb') as file:  \n",
    "    pickle.dump(XGB, file)"
   ]
  },
  {
   "cell_type": "code",
   "execution_count": null,
   "metadata": {},
   "outputs": [],
   "source": [
    "\n",
    "    "
   ]
  },
  {
   "cell_type": "code",
   "execution_count": null,
   "metadata": {},
   "outputs": [],
   "source": []
  }
 ],
 "metadata": {
  "kernelspec": {
   "display_name": "Python 3",
   "language": "python",
   "name": "python3"
  },
  "language_info": {
   "codemirror_mode": {
    "name": "ipython",
    "version": 3
   },
   "file_extension": ".py",
   "mimetype": "text/x-python",
   "name": "python",
   "nbconvert_exporter": "python",
   "pygments_lexer": "ipython3",
   "version": "3.8.3"
  }
 },
 "nbformat": 4,
 "nbformat_minor": 4
}
